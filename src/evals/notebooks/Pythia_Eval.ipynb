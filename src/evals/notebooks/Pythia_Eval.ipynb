{
 "cells": [
  {
   "cell_type": "code",
   "execution_count": 17,
   "id": "44a0ddfd-52a0-40ee-87c5-17ddb6969a9a",
   "metadata": {},
   "outputs": [
    {
     "data": {
      "text/plain": [
       "[('able', 'A B L E'),\n",
       " ('above', 'A B O V E'),\n",
       " ('afraid', 'A F R A I D'),\n",
       " ('afternoon', 'A F T E R N O O N'),\n",
       " ('again', 'A G A I N'),\n",
       " ('age', 'A G E'),\n",
       " ('air', 'A I R'),\n",
       " ('airplane', 'A I R P L A N E'),\n",
       " ('almost', 'A L M O S T'),\n",
       " ('alone', 'A L O N E')]"
      ]
     },
     "execution_count": 17,
     "metadata": {},
     "output_type": "execute_result"
    }
   ],
   "source": [
    "import json\n",
    "import os\n",
    "import sys\n",
    "sys.path.append(\"../..\")\n",
    "\n",
    "from evals.spelling_by_grade import create_full_spelling_prompt, prepare_grade_spelling_eval\n",
    "from evals.plot_utils import basic_bar_graph, create_table, nested_bar_graph\n",
    "from evals.eval_utils import ModelType\n",
    "from evals.eval_list import *\n",
    "from transformer_lens import HookedTransformer\n",
    "\n",
    "words_by_grade = prepare_grade_spelling_eval(\"../data/GradeSpellingEval.txt\", ' ')\n",
    "words_by_grade[3][:10]"
   ]
  },
  {
   "cell_type": "code",
   "execution_count": 18,
   "id": "477a47b3-c176-439c-a618-5409d4dc579d",
   "metadata": {},
   "outputs": [
    {
     "name": "stderr",
     "output_type": "stream",
     "text": [
      "Using pad_token, but it is not set yet.\n"
     ]
    },
    {
     "name": "stdout",
     "output_type": "stream",
     "text": [
      "Loaded pretrained model pythia-2.8b into HookedTransformer\n"
     ]
    }
   ],
   "source": [
    "model = HookedTransformer.from_pretrained('pythia-2.8b')\n",
    "tokenizer = model.tokenizer"
   ]
  },
  {
   "cell_type": "code",
   "execution_count": null,
   "id": "b83a92d5-61f9-4b7b-b546-9191a5778034",
   "metadata": {},
   "outputs": [
    {
     "name": "stdout",
     "output_type": "stream",
     "text": [
      "Assessing Grade 1\n"
     ]
    },
    {
     "data": {
      "application/vnd.jupyter.widget-view+json": {
       "model_id": "65c8915d3c2b436bb63804ac153b2bdb",
       "version_major": 2,
       "version_minor": 0
      },
      "text/plain": [
       "  0%|          | 0/6 [00:00<?, ?it/s]"
      ]
     },
     "metadata": {},
     "output_type": "display_data"
    },
    {
     "data": {
      "application/vnd.jupyter.widget-view+json": {
       "model_id": "85c3396ccf0c4c3ab00132000b30575c",
       "version_major": 2,
       "version_minor": 0
      },
      "text/plain": [
       "  0%|          | 0/6 [00:00<?, ?it/s]"
      ]
     },
     "metadata": {},
     "output_type": "display_data"
    },
    {
     "data": {
      "application/vnd.jupyter.widget-view+json": {
       "model_id": "b0a23da23c024d9e9684c3c1d4d89455",
       "version_major": 2,
       "version_minor": 0
      },
      "text/plain": [
       "  0%|          | 0/6 [00:00<?, ?it/s]"
      ]
     },
     "metadata": {},
     "output_type": "display_data"
    },
    {
     "data": {
      "application/vnd.jupyter.widget-view+json": {
       "model_id": "cfbccbd068d04d629ec7ff1841af26d6",
       "version_major": 2,
       "version_minor": 0
      },
      "text/plain": [
       "  0%|          | 0/6 [00:00<?, ?it/s]"
      ]
     },
     "metadata": {},
     "output_type": "display_data"
    },
    {
     "data": {
      "application/vnd.jupyter.widget-view+json": {
       "model_id": "2485262477e949f0a084037c131a5e8a",
       "version_major": 2,
       "version_minor": 0
      },
      "text/plain": [
       "  0%|          | 0/6 [00:00<?, ?it/s]"
      ]
     },
     "metadata": {},
     "output_type": "display_data"
    },
    {
     "data": {
      "application/vnd.jupyter.widget-view+json": {
       "model_id": "1e3d9c79c4834f4ab381065c892c8dc2",
       "version_major": 2,
       "version_minor": 0
      },
      "text/plain": [
       "  0%|          | 0/5 [00:00<?, ?it/s]"
      ]
     },
     "metadata": {},
     "output_type": "display_data"
    },
    {
     "data": {
      "application/vnd.jupyter.widget-view+json": {
       "model_id": "52320418bc6f4afb8c152894a7a9c2a9",
       "version_major": 2,
       "version_minor": 0
      },
      "text/plain": [
       "  0%|          | 0/6 [00:00<?, ?it/s]"
      ]
     },
     "metadata": {},
     "output_type": "display_data"
    }
   ],
   "source": [
    "single_shot_eval = FULL_SPELLING_EVAL.run_eval(model, ModelType.TRANSFORMER_LENS, tokenizer, words_by_grade, 5, should_tqdm=False)"
   ]
  },
  {
   "cell_type": "code",
   "execution_count": null,
   "id": "9aa8fc32-a603-4304-adee-cd829fac98bb",
   "metadata": {},
   "outputs": [],
   "source": [
    "import copy\n",
    "\n",
    "adjusted_eval = {'data': {i: [] for i in single_shot_eval['data'].keys()}, 'accuracy': {i: 0 for i in single_shot_eval['data'].keys()}}\n",
    "\n",
    "# Adjust for Pythia. Not all of this code may be necessary any more.\n",
    "for grade in single_shot_eval['data'].keys():\n",
    "    for i in range(len(single_shot_eval['data'][grade])):\n",
    "        item = copy.deepcopy(single_shot_eval['data'][grade][i])\n",
    "        item['word'] = item['answer'].replace(' ', '').lower()\n",
    "        item['answer'] = ' '.join([char.upper() for char in item['word']])\n",
    "        resp_split = item['response'].replace('<|endoftext|>', '').split('\\n\\n')\n",
    "        for rs in resp_split:\n",
    "            if rs.startswith(item['word']) and ':' in rs:\n",
    "                item['formatted_response'] = rs.split(':')[1].strip()\n",
    "        adjusted_eval['data'][grade].append(item)\n",
    "\n",
    "adjusted_eval['data'][1][0]"
   ]
  },
  {
   "cell_type": "code",
   "execution_count": null,
   "id": "b92b9ea8-9780-40f8-af81-31d56a19ed31",
   "metadata": {},
   "outputs": [],
   "source": [
    "for grade in adjusted_eval['data'].keys():\n",
    "    data = adjusted_eval['data'][grade]\n",
    "    adjusted_eval['accuracy'][grade] = sum([1 if data[i]['answer'] == data[i]['formatted_response'] else 0 for i in range(len(data))]) / len(data)\n",
    "adjusted_eval['accuracy']"
   ]
  },
  {
   "cell_type": "code",
   "execution_count": null,
   "id": "cdf6b340-5911-44c0-88f6-77b409f20422",
   "metadata": {},
   "outputs": [],
   "source": [
    "table = create_table(adjusted_eval['data'])\n",
    "table"
   ]
  }
 ],
 "metadata": {
  "kernelspec": {
   "display_name": "gpu",
   "language": "python",
   "name": "gpu"
  },
  "language_info": {
   "codemirror_mode": {
    "name": "ipython",
    "version": 3
   },
   "file_extension": ".py",
   "mimetype": "text/x-python",
   "name": "python",
   "nbconvert_exporter": "python",
   "pygments_lexer": "ipython3",
   "version": "3.11.5"
  }
 },
 "nbformat": 4,
 "nbformat_minor": 5
}
